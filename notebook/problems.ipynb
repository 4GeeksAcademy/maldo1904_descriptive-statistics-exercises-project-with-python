{
    "cells": [
        {
            "cell_type": "markdown",
            "id": "ac622319",
            "metadata": {},
            "source": [
                "# Descriptive statistics problems"
            ]
        },
        {
            "cell_type": "markdown",
            "id": "5e0ab0d5",
            "metadata": {},
            "source": [
                "### Exercise 1\n",
                "\n",
                "We will use NumPy to obtain information to describe statistically.\n",
                "\n",
                "- Generate an array of 100 elements following a normal distribution.\n",
                "- Generate an array of 100 elements following a chi-square distribution with 3 degrees of freedom.\n",
                "- Calculate the main metrics and statistical measures that best describe the two vectors."
            ]
        },
        {
            "cell_type": "code",
            "execution_count": 3,
            "id": "34720ab6",
            "metadata": {},
            "outputs": [
                {
                    "data": {
                        "text/plain": [
                            "array([ 1.44314829, -0.16317606, -0.27298204, -0.19026461, -0.0034316 ,\n",
                            "        1.87486174, -1.19960433, -0.5243268 ,  0.26454725, -0.24396039,\n",
                            "        1.06421579, -0.72638768,  0.76640286,  0.80544654,  0.33767849,\n",
                            "        0.14819885,  0.48445857,  0.43388298,  0.07042285,  0.58643695,\n",
                            "        0.62625277, -0.28311297,  0.37040467, -0.08931519,  0.34751394,\n",
                            "        0.58641048, -1.01620401,  0.35414246, -0.34234919, -0.67412928,\n",
                            "        1.07164209,  0.97035559,  0.46233444,  0.31361474,  0.3146856 ,\n",
                            "       -0.42496851, -0.63382302, -0.38904288,  1.21291214, -0.36708988,\n",
                            "       -0.96779806, -0.80025063, -0.40695447, -1.7864227 , -1.01587513,\n",
                            "       -0.64321026, -0.37306823,  0.42547605, -1.39593083,  0.75720412,\n",
                            "        0.87834965, -0.66789885, -0.82939943, -0.87955865,  1.08634577,\n",
                            "       -0.88814611, -0.34627958, -1.03974382,  1.3462813 ,  0.27994923,\n",
                            "       -0.32580526, -0.88544937, -1.66619252, -0.72616164, -0.63340568,\n",
                            "       -0.9118471 ,  0.99796147,  0.57571184,  0.37481828, -0.56344761,\n",
                            "        1.44627733, -1.40887145,  0.40274772, -0.16466204,  0.26625059,\n",
                            "       -1.37914762,  0.20884749,  0.98902548,  0.26286288,  0.55506894,\n",
                            "       -0.72033931, -1.50707301,  1.08447324,  1.49380443, -0.58904759,\n",
                            "       -0.96059402,  0.37422167, -0.2788331 ,  0.01291098,  1.13600788,\n",
                            "       -1.61045868, -0.60987117, -0.62888202,  0.98911736, -0.11530325,\n",
                            "       -0.81188071,  0.56871543,  1.20158692,  1.18280674,  0.93260013])"
                        ]
                    },
                    "execution_count": 3,
                    "metadata": {},
                    "output_type": "execute_result"
                }
            ],
            "source": [
                "# TODO\n",
                "import numpy as np\n",
                "a_normal=np.random.normal(size=100)\n",
                "a_normal\n"
            ]
        },
        {
            "cell_type": "code",
            "execution_count": 4,
            "id": "c5a46292",
            "metadata": {},
            "outputs": [
                {
                    "data": {
                        "text/plain": [
                            "array([ 0.84863382,  1.71156498,  1.1166106 ,  4.08425479,  0.53989109,\n",
                            "        2.53135783,  0.16291415,  1.81502945,  7.04238461,  1.7700128 ,\n",
                            "        0.99064131,  5.66086148,  1.76941874,  0.11338373,  2.82831579,\n",
                            "        3.79287105,  1.11096496,  5.98743633,  2.79319514,  0.70414815,\n",
                            "        1.79806066,  2.32951584,  0.94905561,  1.13121651,  2.01681635,\n",
                            "        2.85918354,  3.77089527,  4.37532905,  3.4022161 ,  4.55147077,\n",
                            "        1.40316158,  0.80957927,  4.54898434,  4.55029899,  1.58010573,\n",
                            "        3.44895876,  8.07012528,  3.16707297,  1.34131591,  0.20557104,\n",
                            "        2.10288652,  2.0076652 ,  5.81011115,  6.07270881,  1.34865498,\n",
                            "        2.99042552,  3.99907456,  3.324311  ,  0.60274581,  1.37537766,\n",
                            "        4.5875545 ,  0.19850302,  3.03223048,  0.8885901 ,  2.51025086,\n",
                            "        0.69539407,  1.9591495 ,  1.46669076,  5.8195549 ,  4.10413367,\n",
                            "        0.18169377,  6.38220022,  0.36982899,  0.36057349,  1.92294743,\n",
                            "        9.0194537 , 10.72362014,  3.19512078,  7.57066879,  0.37750911,\n",
                            "        0.05136361,  3.37240542,  3.8039641 ,  7.3629471 ,  4.03549449,\n",
                            "        1.32931624,  9.25749823,  1.89782049,  8.31249171,  1.64494487,\n",
                            "        4.10152539,  1.14290499,  2.40717412,  2.58669957,  3.49167322,\n",
                            "        1.74365526,  2.49353409,  2.1982647 ,  1.26587808,  4.86749518,\n",
                            "        5.04735711,  5.56386825,  2.52647212,  0.36370808,  4.08396044,\n",
                            "        0.37278837,  0.44051347,  0.37161378,  4.61220156,  5.45627699])"
                        ]
                    },
                    "execution_count": 4,
                    "metadata": {},
                    "output_type": "execute_result"
                }
            ],
            "source": [
                "chi2=np.random.chisquare(3,100)\n",
                "chi2"
            ]
        },
        {
            "cell_type": "code",
            "execution_count": 15,
            "id": "8da044ce",
            "metadata": {},
            "outputs": [
                {
                    "name": "stdout",
                    "output_type": "stream",
                    "text": [
                        "La media Normal: -0.013425853265619271\n",
                        "La media chi2: 2.94888264876132\n",
                        "La mediana Normal: -0.046373396262881776\n",
                        "La media chi2: 2.4503541071390025\n",
                        "La mediana Normal: 1.44314828720924\n",
                        "La media chi2: 0.8486338242002535\n",
                        "Rango Normal: 3.661284436382231\n",
                        "Rango chi2: 10.672256537925728\n",
                        "Desviación Normal: 0.8339535740042655\n",
                        "Desviación Chi2: 2.330772870932936\n",
                        "Varianza Normal: 0.6954785635944879\n",
                        "Varianza Chi2: 5.4325021758769605\n",
                        "Simetría Normal: 0.005344659826705189\n",
                        "Simetría Chi2: 1.0589842874067699\n",
                        "Kurtosis Normal: -0.7982132038545928\n",
                        "Kurtosis Chi2: 0.7670792296028748\n"
                    ]
                }
            ],
            "source": [
                "import statistics as stats\n",
                "print(f\"La media Normal: {stats.mean(a_normal)}\")\n",
                "print(f\"La media chi2: {stats.mean(chi2)}\")\n",
                "\n",
                "print(f\"La mediana Normal: {stats.median(a_normal)}\")\n",
                "print(f\"La media chi2: {stats.median(chi2)}\")\n",
                "\n",
                "print(f\"La mediana Normal: {stats.mode(a_normal)}\")\n",
                "print(f\"La media chi2: {stats.mode(chi2)}\")\n",
                "\n",
                "\n",
                "rango_normal=max(a_normal)-min(a_normal)\n",
                "rango_chi2=max(chi2)-min(chi2)\n",
                "print(f\"Rango Normal: {(rango_normal)}\")\n",
                "print(f\"Rango chi2: {(rango_chi2)}\")\n",
                "\n",
                "print(f\"Desviación Normal: {stats.stdev(a_normal)}\")\n",
                "print(f\"Desviación Chi2: {stats.stdev(chi2)}\")\n",
                "print(f\"Varianza Normal: {stats.variance(a_normal)}\")\n",
                "print(f\"Varianza Chi2: {stats.variance(chi2)}\")\n",
                "\n",
                "from scipy.stats import skew\n",
                "from scipy.stats import kurtosis\n",
                "print(f\"Simetría Normal: {skew(a_normal)}\")\n",
                "print(f\"Simetría Chi2: {skew(chi2)}\")\n",
                "print(f\"Kurtosis Normal: {kurtosis(a_normal)}\")\n",
                "print(f\"Kurtosis Chi2: {kurtosis(chi2)}\")"
            ]
        },
        {
            "cell_type": "markdown",
            "id": "46c70c3d",
            "metadata": {},
            "source": [
                "### Exercise 2\n",
                "\n",
                "Write a Python program to calculate the standard deviation of the following data:\n",
                "\n",
                "```py\n",
                "data = [4, 2, 5, 8, 6]\n",
                "```"
            ]
        },
        {
            "cell_type": "code",
            "execution_count": 25,
            "id": "d590308e",
            "metadata": {},
            "outputs": [
                {
                    "name": "stdout",
                    "output_type": "stream",
                    "text": [
                        "Datos para calcular [4, 2, 5, 8, 6]\n",
                        "Desviación Estandar 2.0\n",
                        "Desviación Estandar Stats 2.23606797749979\n"
                    ]
                }
            ],
            "source": [
                "# TODO\n",
                "import math\n",
                "import statistics as stats\n",
                "def media(lista):\n",
                "    suma = sum(lista)\n",
                "    promedio = suma/len(lista)\n",
                "    return promedio\n",
                "\n",
                "data=[4,2,5,8,6]\n",
                "test=[1,2,5]\n",
                "\n",
                "def devest(lista):\n",
                "    promedio=media(lista)\n",
                "    sumatoria=0\n",
                "    for elemento in lista:\n",
                "        sumatoria+=(elemento-promedio)**2\n",
                "    prom_distancias=sumatoria/len(lista)\n",
                "    de=math.sqrt(prom_distancias)\n",
                "    return de\n",
                "\n",
                "print(f\"Datos para calcular {data}\")\n",
                "print(f\"Desviación Estandar {devest(data)}\")\n",
                "print(f\"Desviación Estandar Stats {stats.stdev(data)}\")\n",
                "\n"
            ]
        }
    ],
    "metadata": {
        "kernelspec": {
            "display_name": "Python 3",
            "language": "python",
            "name": "python3"
        },
        "language_info": {
            "codemirror_mode": {
                "name": "ipython",
                "version": 3
            },
            "file_extension": ".py",
            "mimetype": "text/x-python",
            "name": "python",
            "nbconvert_exporter": "python",
            "pygments_lexer": "ipython3",
            "version": "3.11.4"
        }
    },
    "nbformat": 4,
    "nbformat_minor": 5
}
